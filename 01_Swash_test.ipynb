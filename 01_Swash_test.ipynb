{
 "cells": [
  {
   "cell_type": "code",
   "execution_count": null,
   "id": "4334a66f",
   "metadata": {},
   "outputs": [],
   "source": [
    "import os\n",
    "import os.path as op\n",
    "import sys\n",
    "\n",
    "import matplotlib.pyplot as plt\n",
    "import numpy as np\n",
    "import xarray as xr\n",
    "import pandas as pd\n",
    "\n",
    "#from bluemath_tk.wrappers.swash.swash_wrapper import SwashModelWrapper\n",
    "from IPython.display import HTML\n",
    "\n",
    "from scripts.wrappers import SwashModelWrapper_ondas\n",
    "\n",
    "from scripts.bathymetry import linear_profile\n",
    "from scripts.plots import plot_case_config"
   ]
  },
  {
   "cell_type": "markdown",
   "id": "13a8b997",
   "metadata": {},
   "source": [
    "## 01.Define Case Variables"
   ]
  },
  {
   "cell_type": "markdown",
   "id": "d7ef68ef",
   "metadata": {},
   "source": [
    "#### Necessary Paths"
   ]
  },
  {
   "cell_type": "code",
   "execution_count": null,
   "id": "eb52c384",
   "metadata": {},
   "outputs": [],
   "source": [
    "templates_dir = '/workspaces/ONDAS_Swash/templates/templates_test'\n",
    "output_dir = '/workspaces/ONDAS_Swash/cases'"
   ]
  },
  {
   "cell_type": "markdown",
   "id": "b84e4a79",
   "metadata": {},
   "source": [
    "#### Hydrodynamic Forcing"
   ]
  },
  {
   "cell_type": "code",
   "execution_count": null,
   "id": "af521dcf",
   "metadata": {},
   "outputs": [],
   "source": [
    "Hs = 2.5\n",
    "Tp = 10\n",
    "Hs_L0 =  round((2 * np.pi * (Hs)) / (9.81 * (Tp ** 2)),4)  # Should be between 0.005 and 0.05\n",
    "WL = 0.0"
   ]
  },
  {
   "cell_type": "code",
   "execution_count": null,
   "id": "f7ce7599",
   "metadata": {},
   "outputs": [],
   "source": [
    "Hs_L0"
   ]
  },
  {
   "cell_type": "markdown",
   "id": "91adfa60",
   "metadata": {},
   "source": [
    "#### Create Bathymetry"
   ]
  },
  {
   "cell_type": "code",
   "execution_count": null,
   "id": "afbe4b04",
   "metadata": {},
   "outputs": [],
   "source": [
    "h0 = -12  # offshore depth (m)\n",
    "Ltotal = 1000  # beach heigh (m)\n",
    "m = 10 / 300  # profile slope\n",
    "Wfore = 400  # flume length before fore toe (m)\n",
    "\n",
    "x_profile, depth_array = linear_profile(h0=h0, Ltotal=Ltotal, Wconst=Wfore, slope=m)"
   ]
  },
  {
   "cell_type": "code",
   "execution_count": null,
   "id": "42f9df34",
   "metadata": {},
   "outputs": [],
   "source": [
    "plot_case_config(x=x_profile, z=depth_array, wave_height=Hs, wave_period = Tp, WL=WL)"
   ]
  },
  {
   "cell_type": "code",
   "execution_count": null,
   "id": "d034babe",
   "metadata": {},
   "outputs": [],
   "source": [
    "metamodel_parameters = pd.DataFrame({'Hs': Hs, 'Hs_L0': Hs_L0, 'WL': WL}, index=[0]).to_dict(orient='list')\n",
    "fixed_parameters = {\n",
    "    \"dxinp\": 1,  # bathymetry grid spacing  # Friction manning coefficient (m^-1/3 s)\n",
    "    \"comptime\": 300,  # Simulation duration (s)\n",
    "    \"warmup\": 300,  # Warmup duration (s)\n",
    "    \"n_nodes_per_wavelength\": 60,  # number of nodes per wavelength\n",
    "}\n",
    "\n",
    "swash_model = SwashModelWrapper_ondas(\n",
    "    templates_dir=templates_dir,\n",
    "    metamodel_parameters=metamodel_parameters,\n",
    "    fixed_parameters=fixed_parameters,\n",
    "    output_dir=output_dir,\n",
    "    depth_array=-depth_array,\n",
    ")"
   ]
  },
  {
   "cell_type": "code",
   "execution_count": null,
   "id": "1d9bbf88",
   "metadata": {},
   "outputs": [],
   "source": [
    "swash_model.build_cases(cases_name_format=lambda ctx: 'test')"
   ]
  },
  {
   "cell_type": "code",
   "execution_count": null,
   "id": "298e956c",
   "metadata": {},
   "outputs": [],
   "source": [
    "swash_model.run_cases(launcher='serial')"
   ]
  },
  {
   "cell_type": "code",
   "execution_count": null,
   "id": "a7658fc2",
   "metadata": {},
   "outputs": [],
   "source": [
    "vars_to_postprocess = [\"Msetup\", \"Hrms\", \"Hfreqs\"]\n",
    "postprocessed = swash_model.postprocess_cases(output_vars=vars_to_postprocess).isel(case_num=0)"
   ]
  },
  {
   "cell_type": "code",
   "execution_count": null,
   "id": "de763d17",
   "metadata": {},
   "outputs": [],
   "source": [
    "postprocessed"
   ]
  },
  {
   "cell_type": "code",
   "execution_count": null,
   "id": "2afc0fdd",
   "metadata": {},
   "outputs": [],
   "source": [
    "import matplotlib.pyplot as plt\n",
    "import numpy as np\n",
    "\n",
    "fig, axs = plt.subplots(1, 2, figsize=(12,4), sharey=True)\n",
    "\n",
    "ax1 = axs[0]\n",
    "ax1.plot(postprocessed.Xp, postprocessed.Hs, label='Hs', color='tab:blue', lw=2)\n",
    "ax1.plot(postprocessed.Xp, postprocessed.Hss, label='Hss', color='tab:green', lw=2)\n",
    "ax1.plot(postprocessed.Xp, postprocessed.Hrms, label='Hrms', color='tab:orange', lw=2)\n",
    "\n",
    "ax1.fill_between(np.arange(0, len(depth_array)), depth_array, np.min(depth_array)-1,\n",
    "                 color='navajowhite', alpha=0.4, zorder=0)\n",
    "ax1.plot(np.arange(0, len(depth_array)), depth_array, color='k', lw=1.5, zorder=1)\n",
    "\n",
    "ax1.set_ylabel('Wave Height (m)', fontsize=12)\n",
    "ax1.grid(True, ls='--', alpha=0.4)\n",
    "ax1.legend(loc='upper right', fontsize=10, ncol=2, frameon=True)\n",
    "\n",
    "ax2 = axs[1]\n",
    "ax2.plot(postprocessed.Xp, postprocessed.ig, label='IG', color='tab:red', lw=2)\n",
    "ax2.plot(postprocessed.Xp, postprocessed.Msetup, label='Mean Setup', color='tab:brown', lw=2)\n",
    "\n",
    "ax2.fill_between(np.arange(0, len(depth_array)), depth_array, np.min(depth_array)-1,\n",
    "                 color='navajowhite', alpha=0.4, zorder=0)\n",
    "ax2.plot(np.arange(0, len(depth_array)), depth_array, color='k', lw=1.5, zorder=1)\n",
    "\n",
    "ax2.set_ylabel('Low-frequency Energy / Setup (m)', fontsize=12)\n",
    "ax2.grid(True, ls='--', alpha=0.4)\n",
    "ax2.legend(loc='upper right', fontsize=10, ncol=2, frameon=True)\n",
    "\n",
    "axs[0].set_xlim([np.min(postprocessed.Xp), np.max(postprocessed.Xp)])\n",
    "\n",
    "ax1.legend(loc='upper center', bbox_to_anchor=(0.5, -0.1),\n",
    "           ncol=3, fontsize=10, frameon=False)\n",
    "ax2.legend(loc='upper center', bbox_to_anchor=(0.5, -0.1),\n",
    "           ncol=2, fontsize=10, frameon=False)\n",
    "\n",
    "fig.suptitle('Wave Transformation Across the Flume', fontsize=15)\n",
    "\n",
    "plt.tight_layout()\n",
    "plt.show()\n"
   ]
  },
  {
   "cell_type": "code",
   "execution_count": null,
   "id": "7522ea00",
   "metadata": {},
   "outputs": [],
   "source": [
    "output_data = xr.open_dataset('/workspaces/ONDAS_Swash/cases/test/output.nc')"
   ]
  },
  {
   "cell_type": "code",
   "execution_count": null,
   "id": "aa306387",
   "metadata": {},
   "outputs": [],
   "source": [
    "import matplotlib.animation as animation\n",
    "\n",
    "\n",
    "watlev = output_data[\"Watlev\"]  # shape: (Xp, Yp, Tsec)\n",
    "x = output_data[\"Xp\"]\n",
    "time = output_data[\"Tsec\"]\n",
    "\n",
    "watlev_1d = watlev.isel(Yp=0)\n",
    "\n",
    "fig, ax = plt.subplots()\n",
    "line, = ax.plot(x, watlev_1d.isel(Tsec=0), lw=2)\n",
    "\n",
    "ax.fill_between(np.arange(0, len(depth_array)), depth_array, np.min(depth_array)-1,\n",
    "                 color='navajowhite', alpha=0.4, zorder=0)\n",
    "ax.plot(np.arange(0, len(depth_array)), depth_array, color='k', lw=1.5, zorder=1)\n",
    "\n",
    "\n",
    "ax.set_xlim(x.min(), x.max())\n",
    "ax.set_xlabel(\"X position\")\n",
    "ax.set_ylabel(\"Water Level (Watlev)\")\n",
    "title = ax.set_title(\"Time = 0 s\")\n",
    "\n",
    "# Animation function\n",
    "def update(frame):\n",
    "    line.set_ydata(watlev_1d.isel(Tsec=frame))\n",
    "    title.set_text(f\"Time = {time[frame].item()} s\")\n",
    "    return line, title\n",
    "\n",
    "# Create the animation\n",
    "ani = animation.FuncAnimation(\n",
    "    fig, update, frames=len(time), interval=100, blit=True\n",
    ")\n",
    "\n",
    "plt.close()\n",
    "\n",
    "HTML(ani.to_jshtml())"
   ]
  },
  {
   "cell_type": "code",
   "execution_count": null,
   "id": "01105eb9",
   "metadata": {},
   "outputs": [],
   "source": []
  },
  {
   "cell_type": "code",
   "execution_count": null,
   "id": "20abd33f",
   "metadata": {},
   "outputs": [],
   "source": []
  }
 ],
 "metadata": {
  "kernelspec": {
   "display_name": "base",
   "language": "python",
   "name": "python3"
  },
  "language_info": {
   "codemirror_mode": {
    "name": "ipython",
    "version": 3
   },
   "file_extension": ".py",
   "mimetype": "text/x-python",
   "name": "python",
   "nbconvert_exporter": "python",
   "pygments_lexer": "ipython3",
   "version": "3.11.14"
  }
 },
 "nbformat": 4,
 "nbformat_minor": 5
}
